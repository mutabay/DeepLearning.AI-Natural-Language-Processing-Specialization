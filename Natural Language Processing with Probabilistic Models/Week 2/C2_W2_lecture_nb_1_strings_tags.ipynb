{
 "cells": [
  {
   "cell_type": "markdown",
   "metadata": {},
   "source": [
    "# Parts-of-Speech Tagging - First Steps: Working with text files, Creating a Vocabulary and Handling Unknown Words"
   ]
  },
  {
   "cell_type": "markdown",
   "metadata": {},
   "source": [
    "In this lecture notebook you will create a vocabulary from a tagged dataset and learn how to deal with words that are not present in this vocabulary when working with other text sources. Aside from this you will also learn how to:\n",
    " \n",
    "- read text files\n",
    "- work with defaultdict\n",
    "- work with string data\n",
    " "
   ]
  },
  {
   "cell_type": "code",
   "execution_count": 1,
   "metadata": {},
   "outputs": [],
   "source": [
    "import string\n",
    "from collections import defaultdict"
   ]
  },
  {
   "cell_type": "markdown",
   "metadata": {},
   "source": [
    "### Read Text Data"
   ]
  },
  {
   "cell_type": "markdown",
   "metadata": {},
   "source": [
    "A tagged dataset taken from the Wall Street Journal is provided in the file `WSJ_02-21.pos`. \n",
    "\n",
    "To read this file you can use Python's context manager by using the `with` keyword and specifying the name of the file you wish to read. To actually save the contents of the file into memory you will need to use the `readlines()` method and store its return value in a variable. \n",
    "\n",
    "Python's context managers are great because you don't need to explicitly close the connection to the file, this is done under the hood:"
   ]
  },
  {
   "cell_type": "code",
   "execution_count": 2,
   "metadata": {},
   "outputs": [],
   "source": [
    "# Read lines from 'WSJ_02-21.pos' file and save them into the 'lines' variable\n",
    "with open(\"./data/WSJ_02-21.pos\", 'r') as f:\n",
    "    lines = f.readlines()"
   ]
  },
  {
   "cell_type": "markdown",
   "metadata": {},
   "source": [
    "To check the contents of the dataset you can print the first 5 lines:"
   ]
  },
  {
   "cell_type": "code",
   "execution_count": 3,
   "metadata": {},
   "outputs": [
    {
     "name": "stdout",
     "output_type": "stream",
     "text": [
      "\t\tWord \tTag\n",
      "\n",
      "line number 1: In\tIN\n",
      "\n",
      "line number 2: an\tDT\n",
      "\n",
      "line number 3: Oct.\tNNP\n",
      "\n",
      "line number 4: 19\tCD\n",
      "\n",
      "line number 5: review\tNN\n",
      "\n"
     ]
    }
   ],
   "source": [
    "# Print columns for reference\n",
    "print(\"\\t\\tWord\", \"\\tTag\\n\")\n",
    "\n",
    "# Print first five lines of the dataset\n",
    "for i in range(5):\n",
    "    print(f'line number {i+1}: {lines[i]}')"
   ]
  },
  {
   "cell_type": "markdown",
   "metadata": {},
   "source": [
    "Each line within the dataset has a word followed by its corresponding tag. However since the printing was done using a formatted string it can be inferred that the **word** and the **tag** are separated by a tab (or some spaces) and there is a newline at the end of each line (notice that there is a space between each line). \n",
    "\n",
    "If you want to understand the meaning of these tags you can take a look [here](https://www.ling.upenn.edu/courses/Fall_2003/ling001/penn_treebank_pos.html).\n",
    "\n",
    "To better understand how the information is structured in the dataset it is recommended to print an unformatted version of it:"
   ]
  },
  {
   "cell_type": "code",
   "execution_count": 4,
   "metadata": {},
   "outputs": [
    {
     "data": {
      "text/plain": "'In\\tIN\\n'"
     },
     "execution_count": 4,
     "metadata": {},
     "output_type": "execute_result"
    }
   ],
   "source": [
    "# Print first line (unformatted)\n",
    "lines[0]"
   ]
  },
  {
   "cell_type": "markdown",
   "metadata": {},
   "source": [
    "Indeed there is a tab between the word and the tag and a newline at the end of each line.\n",
    "\n",
    "### Creating a vocabulary\n",
    "\n",
    "Now that you understand how the dataset is structured, you will create a vocabulary out of it. A vocabulary is made up of every word that appeared at least 2 times in the dataset. \n",
    "For this, follow these steps:\n",
    "- Get only the words from the dataset\n",
    "- Use a defaultdict to count the number of times each word appears\n",
    "- Filter the dict to only include words that appeared at least 2 times\n",
    "- Create a list out of the filtered dict\n",
    "- Sort the list\n",
    "\n",
    "For step 1 you can use the fact that every word and tag are separated by a tab and that words always come first. Using list comprehension the words list can be created like this:"
   ]
  },
  {
   "cell_type": "code",
   "execution_count": 5,
   "metadata": {},
   "outputs": [],
   "source": [
    "# Get the words from each line in the dataset\n",
    "words = [line.split('\\t')[0] for line in lines]"
   ]
  },
  {
   "cell_type": "markdown",
   "metadata": {},
   "source": [
    "Step 2 can be done easily by leveraging `defaultdict`. In case you aren't familiar with defaultdicts they are a special kind of dictionaries that **return the \"zero\" value of a type if you try to access a key that does not exist**. Since you want the frequencies of words, you should define the defaultdict with a type of `int`. \n",
    "\n",
    "Now you don't need to worry about the case when the word is not present within the dictionary because getting the value for that key will simply return a zero. Isn't that cool?"
   ]
  },
  {
   "cell_type": "code",
   "execution_count": 7,
   "metadata": {},
   "outputs": [
    {
     "data": {
      "text/plain": "defaultdict(int,\n            {'In': 1740,\n             'an': 3143,\n             'Oct.': 318,\n             '19': 100,\n             'review': 58,\n             'of': 22929,\n             '``': 6967,\n             'The': 6833,\n             'Misanthrope': 3,\n             \"''\": 6787,\n             'at': 4362,\n             'Chicago': 197,\n             \"'s\": 9311,\n             'Goodman': 7,\n             'Theatre': 5,\n             '(': 1153,\n             'Revitalized': 1,\n             'Classics': 1,\n             'Take': 9,\n             'the': 41107,\n             'Stage': 3,\n             'in': 15186,\n             'Windy': 1,\n             'City': 139,\n             ',': 48723,\n             'Leisure': 3,\n             '&': 1034,\n             'Arts': 8,\n             ')': 1160,\n             'role': 125,\n             'Celimene': 4,\n             'played': 53,\n             'by': 4495,\n             'Kim': 7,\n             'Cattrall': 1,\n             'was': 3903,\n             'mistakenly': 6,\n             'attributed': 69,\n             'to': 22198,\n             'Christina': 2,\n             'Haag': 3,\n             '.': 39020,\n             '\\n': 39832,\n             'Ms.': 228,\n             'plays': 24,\n             'Elianti': 1,\n             'Rolls-Royce': 2,\n             'Motor': 96,\n             'Cars': 4,\n             'Inc.': 1059,\n             'said': 5615,\n             'it': 4656,\n             'expects': 249,\n             'its': 3584,\n             'U.S.': 1589,\n             'sales': 957,\n             'remain': 150,\n             'steady': 33,\n             'about': 2060,\n             '1,200': 5,\n             'cars': 138,\n             '1990': 273,\n             'luxury': 47,\n             'auto': 162,\n             'maker': 285,\n             'last': 1040,\n             'year': 2239,\n             'sold': 390,\n             '1,214': 1,\n             'Howard': 25,\n             'Mosher': 1,\n             'president': 888,\n             'and': 16115,\n             'chief': 557,\n             'executive': 533,\n             'officer': 323,\n             'he': 2658,\n             'anticipates': 12,\n             'growth': 363,\n             'for': 7976,\n             'Britain': 134,\n             'Europe': 190,\n             'Far': 23,\n             'Eastern': 137,\n             'markets': 366,\n             'BELL': 1,\n             'INDUSTRIES': 5,\n             'increased': 269,\n             'quarterly': 93,\n             '10': 545,\n             'cents': 778,\n             'from': 4459,\n             'seven': 114,\n             'a': 19284,\n             'share': 1445,\n             'new': 1403,\n             'rate': 516,\n             'will': 3078,\n             'be': 3725,\n             'payable': 34,\n             'Feb.': 19,\n             '15': 421,\n             'A': 865,\n             'record': 219,\n             'date': 75,\n             'has': 3303,\n             \"n't\": 3222,\n             'been': 1581,\n             'set': 259,\n             'Bell': 60,\n             'based': 315,\n             'Los': 162,\n             'Angeles': 137,\n             'makes': 187,\n             'distributes': 9,\n             'electronic': 66,\n             'computer': 309,\n             'building': 203,\n             'products': 434,\n             'Investors': 109,\n             'are': 3677,\n             'appealing': 5,\n             'Securities': 265,\n             'Exchange': 453,\n             'Commission': 152,\n             'not': 1300,\n             'limit': 80,\n             'their': 1678,\n             'access': 64,\n             'information': 164,\n             'stock': 1196,\n             'purchases': 72,\n             'corporate': 244,\n             'insiders': 13,\n             'SEC': 89,\n             'proposal': 206,\n             'ease': 53,\n             'reporting': 39,\n             'requirements': 59,\n             'some': 1284,\n             'company': 2477,\n             'executives': 203,\n             'would': 2184,\n             'undermine': 10,\n             'usefulness': 3,\n             'on': 5145,\n             'insider': 20,\n             'trades': 68,\n             'as': 4256,\n             'stock-picking': 3,\n             'tool': 21,\n             'individual': 133,\n             'investors': 620,\n             'professional': 40,\n             'money': 518,\n             'managers': 144,\n             'contend': 31,\n             'They': 448,\n             'make': 589,\n             'argument': 30,\n             'letters': 35,\n             'agency': 289,\n             'rule': 83,\n             'changes': 200,\n             'proposed': 208,\n             'this': 1899,\n             'past': 406,\n             'summer': 99,\n             'that': 7992,\n             'among': 307,\n             'other': 1381,\n             'things': 169,\n             'exempt': 11,\n             'many': 728,\n             'middle-management': 1,\n             'own': 441,\n             'companies': 821,\n             \"'\": 749,\n             'shares': 1161,\n             'also': 1425,\n             'allow': 116,\n             'report': 324,\n             'exercises': 7,\n             'options': 160,\n             'later': 208,\n             'less': 370,\n             'often': 185,\n             'Many': 136,\n             'maintain': 76,\n             'investor': 167,\n             'confidence': 48,\n             'so': 628,\n             'shaken': 8,\n             '1987': 270,\n             'market': 1881,\n             'crash': 99,\n             '--': 2038,\n             'already': 295,\n             'stacked': 3,\n             'against': 495,\n             'little': 283,\n             'guy': 28,\n             'any': 727,\n             'decrease': 14,\n             'insider-trading': 5,\n             'patterns': 11,\n             'might': 338,\n             'prompt': 11,\n             'individuals': 70,\n             'get': 447,\n             'out': 1036,\n             'stocks': 551,\n             'altogether': 12,\n             'historically': 12,\n             'paid': 219,\n             'obeisance': 1,\n             'ideal': 12,\n             'level': 210,\n             'playing': 32,\n             'field': 70,\n             'wrote': 57,\n             'Clyde': 1,\n             'S.': 47,\n             'McGregor': 1,\n             'Winnetka': 1,\n             'Ill.': 22,\n             'one': 1385,\n             '92': 11,\n             'received': 195,\n             'since': 463,\n             'were': 1914,\n             'Aug.': 49,\n             '17': 122,\n             'Apparently': 8,\n             'commission': 64,\n             'did': 587,\n             'really': 127,\n             'believe': 168,\n             'Currently': 21,\n             'rules': 114,\n             'force': 151,\n             'directors': 140,\n             'within': 173,\n             'month': 514,\n             'after': 930,\n             'transaction': 179,\n             'But': 1743,\n             '25': 243,\n             '%': 4942,\n             'according': 315,\n             'figures': 152,\n             'file': 42,\n             'reports': 144,\n             'late': 313,\n             'effort': 156,\n             'streamline': 9,\n             'federal': 497,\n             'bureaucracy': 20,\n             'boost': 107,\n             'compliance': 17,\n             'who': 1563,\n             'calling': 42,\n             'shots': 6,\n             'Brian': 12,\n             'Lane': 12,\n             'special': 156,\n             'counsel': 34,\n             'office': 284,\n             'disclosure': 24,\n             'policy': 255,\n             'which': 2218,\n             'officials': 493,\n             'had': 1765,\n             'until': 270,\n             'today': 261,\n             'comment': 212,\n             'proposals': 57,\n             'issue': 437,\n             'produced': 90,\n             'more': 1870,\n             'mail': 57,\n             'than': 1606,\n             'almost': 193,\n             'memory': 32,\n             'Mr.': 4159,\n             'probably': 144,\n             'vote': 126,\n             'early': 325,\n             'next': 585,\n             'Not': 74,\n             'all': 1063,\n             'those': 505,\n             'oppose': 25,\n             'Committee': 123,\n             'Federal': 287,\n             'Regulation': 2,\n             'American': 580,\n             'Bar': 7,\n             'Association': 165,\n             'argues': 25,\n             'example': 210,\n             'lengthy': 11,\n             'letter': 89,\n             'substantially': 53,\n             'improve': 82,\n             '{': 213,\n             'law': 298,\n             '}': 216,\n             'conforming': 1,\n             'closely': 82,\n             'contemporary': 7,\n             'business': 870,\n             'realities': 6,\n             'What': 162,\n             'object': 7,\n             'most': 789,\n             'is': 6938,\n             'effect': 141,\n             'they': 1954,\n             'say': 714,\n             'have': 3042,\n             'ability': 86,\n             'spot': 40,\n             'telltale': 1,\n             'clusters': 1,\n             'trading': 1006,\n             'activity': 109,\n             'buying': 270,\n             'or': 2500,\n             'selling': 268,\n             'director': 322,\n             'short': 129,\n             'period': 286,\n             'time': 734,\n             'According': 99,\n             'estimates': 128,\n             'cut': 256,\n             'filings': 24,\n             'third': 336,\n             'vehemently': 5,\n             'disputed': 13,\n             'eliminate': 29,\n             'policy-making': 3,\n             'divisions': 32,\n             'such': 883,\n             'marketing': 158,\n             'finance': 132,\n             'research': 215,\n             'development': 157,\n             'tougher': 19,\n             'still': 496,\n             'required': 107,\n             'Companies': 27,\n             'compelled': 5,\n             'publish': 20,\n             'annual': 273,\n             'proxy': 12,\n             'statements': 35,\n             'names': 48,\n             'fail': 22,\n             'Considered': 1,\n             'whole': 95,\n             'under': 533,\n             'least': 328,\n             'effective': 89,\n             'if': 813,\n             'following': 165,\n             'transactions': 81,\n             'Robert': 204,\n             'Gabele': 2,\n             'Invest\\\\/Net': 3,\n             'North': 131,\n             'Miami': 25,\n             'Fla.': 23,\n             'packages': 26,\n             'sells': 45,\n             'data': 148,\n             'worded': 3,\n             'vaguely': 2,\n             'key': 115,\n             'may': 808,\n             'asking': 42,\n             'require': 79,\n             'immediately': 69,\n             'while': 505,\n             'regulates': 4,\n             'files': 10,\n             'tells': 23,\n             'them': 665,\n             'when': 987,\n             'do': 945,\n             'want': 280,\n             'change': 237,\n             'timing': 28,\n             'should': 434,\n             'write': 39,\n             'representatives': 41,\n             'Congress': 310,\n             'added': 316,\n             'likely': 265,\n             'amenable': 1,\n             'legislation': 111,\n             'timely': 8,\n             'basis': 129,\n             'nation': 196,\n             'largest': 239,\n             'pension': 74,\n             'fund': 247,\n             'oversees': 14,\n             '$': 7184,\n             '80': 100,\n             'billion': 1789,\n             'college': 49,\n             'employees': 214,\n             'plans': 387,\n             'offer': 418,\n             'two': 1039,\n             'investment': 505,\n             '1.2': 53,\n             'million': 4384,\n             'participants': 36,\n             'Teachers': 1,\n             'Insurance': 89,\n             'Annuity': 1,\n             'Association-College': 1,\n             'Retirement': 8,\n             'Equities': 2,\n             'Fund': 84,\n             'introduce': 30,\n             'bond': 255,\n             'invest': 47,\n             'socially': 4,\n             'responsible': 51,\n             'Both': 103,\n             'funds': 407,\n             'expected': 514,\n             'begin': 124,\n             'operation': 93,\n             'around': 261,\n             'March': 151,\n             '1': 634,\n             'subject': 109,\n             'approval': 139,\n             'For': 462,\n             'sign': 79,\n             'up': 1698,\n             'must': 247,\n             'approve': 32,\n             'plan': 471,\n             'Some': 317,\n             '4,300': 1,\n             'institutions': 107,\n             'part': 420,\n             'carry': 60,\n             'agreement': 305,\n             'pressure': 108,\n             'relax': 9,\n             'strict': 14,\n             'participation': 28,\n             'provide': 183,\n             'reached': 142,\n             'with': 4245,\n             'December': 106,\n             'social': 46,\n             'choice': 42,\n             'shun': 2,\n             'securities': 412,\n             'linked': 29,\n             'South': 192,\n             'Africa': 52,\n             'nuclear': 45,\n             'power': 227,\n             'cases': 139,\n             'Northern': 41,\n             'Ireland': 13,\n             'Also': 86,\n             'excluded': 5,\n             'investments': 122,\n             'significant': 110,\n             'stemming': 15,\n             'weapons': 31,\n             'manufacture': 12,\n             'alcoholic': 2,\n             'beverages': 4,\n             'tobacco': 34,\n             'Sixty': 2,\n             'percent': 16,\n             'invested': 37,\n             'rest': 98,\n             'going': 314,\n             'into': 921,\n             'bonds': 625,\n             'short-term': 93,\n             'high-grade': 6,\n             'medium-grade': 1,\n             'mortgages': 62,\n             'asset-backed': 31,\n             'including': 417,\n             'much': 669,\n             'foreign': 315,\n             'buy': 458,\n             'sell': 473,\n             'futures': 252,\n             'contracts': 157,\n             'New': 1163,\n             'York': 889,\n             'State': 121,\n             'Department': 227,\n             'Under': 136,\n             'features': 24,\n             'able': 185,\n             'transfer': 38,\n             'jobs': 72,\n             'terminated': 12,\n             'receive': 104,\n             'cash': 336,\n             'choices': 17,\n             'offered': 192,\n             'currently': 179,\n             'limited': 105,\n             'annuity': 5,\n             'money-market': 18,\n             'Brunswick': 4,\n             'Scientific': 8,\n             'Co.': 898,\n             'biotechnology': 27,\n             'instrumentation': 6,\n             'equipment': 163,\n             'adopted': 38,\n             'anti-takeover': 8,\n             'giving': 64,\n             'shareholders': 162,\n             'right': 235,\n             'purchase': 195,\n             'half': 261,\n             'price': 695,\n             'certain': 229,\n             'conditions': 88,\n             'protect': 53,\n             'abusive': 3,\n             'takeover': 228,\n             'tactics': 12,\n             'W.': 58,\n             'Ed': 8,\n             'Tyler': 6,\n             '37': 49,\n             'years': 1174,\n             'old': 233,\n             'senior': 227,\n             'vice': 372,\n             'printing': 26,\n             'concern': 318,\n             'elected': 78,\n             'technology': 172,\n             'group': 645,\n             'position': 197,\n             'Solo': 4,\n             'woodwind': 1,\n             'players': 58,\n             'creative': 28,\n             'work': 406,\n             'lot': 189,\n             'because': 989,\n             'repertoire': 2,\n             'audience': 47,\n             'appeal': 54,\n             'oboist': 1,\n             'Heinz': 5,\n             'Holliger': 1,\n             'taken': 157,\n             'hard': 147,\n             'line': 206,\n             'problem': 225,\n             ':': 1337,\n             'He': 857,\n             'commissions': 37,\n             'splendidly': 2,\n             'interprets': 1,\n             'fearsome': 1,\n             'scores': 14,\n             'does': 486,\n             'conducting': 16,\n             'play': 93,\n             'same': 301,\n             'Mozart': 1,\n             'Strauss': 4,\n             'concertos': 1,\n             'over': 860,\n             'again': 185,\n             'Richard': 119,\n             'Stoltzman': 10,\n             'gentler': 1,\n             'audience-friendly': 1,\n             'approach': 68,\n             'Years': 2,\n             'ago': 450,\n             'collaborated': 2,\n             'music': 51,\n             'gurus': 2,\n             'Peter': 88,\n             'Serkin': 1,\n             'Fred': 9,\n             'Sherry': 4,\n             'very': 376,\n             'countercultural': 1,\n             'chamber': 19,\n             'Tashi': 2,\n             'won': 96,\n             'audiences': 14,\n             'dreaded': 3,\n             'like': 474,\n             'Messiaen': 1,\n             'Quartet': 1,\n             'End': 8,\n             'Time': 87,\n             'Today': 47,\n             'pixie-like': 1,\n             'clarinetist': 3,\n             'mostly': 66,\n             'dropped': 185,\n             'missionary': 1,\n             'though': 241,\n             'touch': 18,\n             'survives': 3,\n             'now': 688,\n             'goes': 66,\n             'road': 42,\n             'piano': 8,\n             'bass': 3,\n             'slide': 40,\n             'show': 211,\n             'ranges': 16,\n             'light': 83,\n             'classical': 5,\n             'jazz': 5,\n             'pop': 15,\n             'few': 340,\n             'notable': 5,\n             'exceptions': 11,\n             'Just': 38,\n             'thing': 116,\n             'Vivaldi-at-brunch': 1,\n             'yuppie': 2,\n             'embraced': 11,\n             'Age': 3,\n             'easy': 52,\n             'listening': 12,\n             'you': 596,\n             'ca': 193,\n             'dismiss': 6,\n             'his': 1705,\n             'motives': 3,\n             'merely': 34,\n             'commercial': 164,\n             'lightweight': 3,\n             'believes': 87,\n             'what': 570,\n             'superbly': 1,\n             'His': 116,\n             'recent': 426,\n             'appearance': 14,\n             'Metropolitan': 19,\n             'Museum': 10,\n             'dubbed': 15,\n             'Musical': 1,\n             'Odyssey': 1,\n             'case': 313,\n             'point': 268,\n             'It': 1158,\n             'felt': 50,\n             'party': 92,\n             'highly': 73,\n             'polished': 3,\n             'jam': 3,\n             'session': 91,\n             'friends': 30,\n             'concert': 6,\n             'Clad': 1,\n             'trademark': 5,\n             'black': 114,\n             'velvet': 3,\n             'suit': 166,\n             'soft-spoken': 2,\n             'announced': 243,\n             'album': 2,\n             'Inner': 4,\n             'Voices': 2,\n             'just': 558,\n             'released': 60,\n             'family': 146,\n             'front': 46,\n             'row': 19,\n             'mother': 33,\n             'birthday': 5,\n             'her': 393,\n             'favorite': 21,\n             'tune': 7,\n             'launched': 51,\n             'Saint-Saens': 2,\n             'Swan': 1,\n             'Carnival': 17,\n             'Animals': 3,\n             'encore': 1,\n             'piece': 48,\n             'cellists': 1,\n             'lovely': 5,\n             'glossy': 6,\n             'tone': 24,\n             'no': 697,\n             'bite': 4,\n             'Then': 76,\n             'could': 1071,\n             'fast': 39,\n             'well': 424,\n             'second': 284,\n             'movement': 44,\n             'Sonata': 4,\n             'Clarinet': 1,\n             'whimsical': 2,\n             'puckish': 3,\n             'tidbit': 1,\n             'reflected': 49,\n             'flip': 4,\n             'side': 96,\n             'personality': 5,\n             'And': 540,\n             'went': 127,\n             'through': 585,\n             'first': 862,\n             'ingeniously': 1,\n             'chosen': 16,\n             'potpourri': 1,\n             'pieces': 25,\n             'none': 34,\n             'longer': 112,\n             'five': 349,\n             'minutes': 72,\n             'disturb': 4,\n             'challenge': 46,\n             'listener': 2,\n             'introduced': 81,\n             'colleagues': 37,\n             'Bill': 44,\n             'Douglas': 38,\n             'pianist\\\\/bassoonist\\\\/composer': 1,\n             'buddy': 2,\n             'Yale': 13,\n             'bassist': 1,\n             'Eddie': 9,\n             'Gomez': 3,\n             'An': 142,\n             'improvisational': 1,\n             'section': 46,\n             'built': 83,\n             'beginning': 107,\n             'Golden': 30,\n             'Rain': 1,\n             'lilting': 1,\n             'laid-back': 1,\n             'lead': 122,\n             'uptempo': 1,\n             'Sky': 4,\n             'gave': 83,\n             'opportunity': 61,\n             'wail': 1,\n             'high': 346,\n             'register': 7,\n             'off': 520,\n             'fleet': 25,\n             'fingers': 5,\n             'Bach': 2,\n             'Air': 164,\n             'followed': 86,\n             'tied': 39,\n             'composer': 4,\n             'proclaiming': 2,\n             'him': 351,\n             'great': 121,\n             'improviser': 1,\n             '18th': 3,\n             'century': 51,\n             'then': 340,\n             'image': 76,\n             'joining': 23,\n             'two-part': 8,\n             'inventions': 2,\n             'cleverly': 3,\n             'arranged': 18,\n             'clarinet': 2,\n             'bassoon': 1,\n             'Keeping': 4,\n             'mood': 19,\n             'chanted': 4,\n             'chortled': 1,\n             'way': 393,\n             'murderous': 1,\n             'polyrhythms': 1,\n             'devised': 7,\n             'alternative': 46,\n             'Hindemith': 1,\n             'dry': 11,\n             'theory-teaching': 1,\n             'techniques': 12,\n             'soared': 48,\n             'improvised': 1,\n             'tight': 24,\n             'Bebop': 1,\n             'Etudes': 1,\n             'end': 382,\n             'however': 248,\n             'brought': 92,\n             'standing-room-only': 1,\n             'crowd': 20,\n             'seemed': 49,\n             'waiting': 64,\n             'singer': 11,\n             'Judy': 3,\n             'Collins': 8,\n             'appears': 72,\n             'Glamorous': 1,\n             'pure-voiced': 1,\n             'ever': 123,\n             'sang': 7,\n             'Joni': 1,\n             'Mitchell': 39,\n             'Free': 13,\n             'encounter': 2,\n             'street-corner': 2,\n             'contributed': 80,\n             'obligatto': 1,\n             'lush': 3,\n             'setting': 45,\n             'Gaelic': 1,\n             'blessing': 7,\n             'Deep': 4,\n             'Peace': 4,\n             'featured': 11,\n             'but': 1662,\n             'predictable': 7,\n             'images': 11,\n             'clouds': 7,\n             'beaches': 5,\n             'deserts': 1,\n             'sunsets': 1,\n             'etc': 6,\n             'too': 325,\n             'mellow': 2,\n             'believed': 65,\n             'gotten': 23,\n             'away': 174,\n             'add': 80,\n             'signature': 6,\n             'Amazing': 3,\n             'Grace': 14,\n             'ask': 52,\n             'That': 448,\n             'permissible': 5,\n             'warm': 14,\n             'fuzzy': 1,\n             'feelings': 10,\n             'Was': 5,\n             'why': 92,\n             'departed': 2,\n             'before': 524,\n             'during': 368,\n             '?': 396,\n             'Or': 31,\n             'gone': 51,\n             'Either': 8,\n             'pity': 1,\n             'Stolzman': 2,\n             'substantial': 77,\n             'evening': 21,\n             'intermission': 2,\n             'Steve': 24,\n             'Reich': 6,\n             'Counterpoint': 2,\n             'series': 99,\n             'works': 71,\n             'juxtapose': 1,\n             'live': 55,\n             'performer': 6,\n             'recorded': 35,\n             'tracks': 18,\n             'Different': 2,\n             'Trains': 1,\n             'string': 15,\n             'quartet': 1,\n             'uses': 48,\n             'technique': 27,\n             'magisterially': 1,\n             'worried': 40,\n             'take': 404,\n             'warned': 37,\n             'us': 187,\n             'advance': 53,\n             'lasts': 6,\n             '11': 228,\n             '1\\\\/2': 271,\n             'unfortunately': 8,\n             'illustrated': 4,\n             'intricate': 3,\n             'jazzy': 1,\n             'tapestry': 1,\n             'Pearson': 4,\n             'geometric': 1,\n             'repeating': 3,\n             'objects': 3,\n             'kitschy': 1,\n             'mirroring': 1,\n             'musical': 10,\n             'structure': 57,\n             'thoroughly': 4,\n             'distracting': 3,\n             'elegant': 7,\n             'execution': 17,\n             'straight': 22,\n             'sounds': 18,\n             'written': 45,\n             'Charlie': 8,\n             'Parker': 15,\n             'Ornette': 1,\n             'Coleman': 8,\n             'pictures': 20,\n             'enjoyable': 2,\n             'hear': 39,\n             'accomplished': 5,\n             'without': 249,\n             'having': 125,\n             'sit': 23,\n             'smoke-filled': 1,\n             'club': 23,\n             'ultimately': 40,\n             'forgettable': 1,\n             'Is': 29,\n             'future': 190,\n             'Managers': 12,\n             'presenters': 1,\n             'insist': 35,\n             'concerts': 2,\n             'can': 925,\n             'enjoy': 16,\n             'only': 938,\n             'purged': 3,\n             'threatening': 18,\n             'elements': 11,\n             'served': 46,\n             'bite-sized': 1,\n             'morsels': 1,\n             'accompanied': 14,\n             'visuals': 1,\n             'Slides': 1,\n             'illustrate': 8,\n             'Shostakovich': 1,\n             'quartets': 1,\n             'unpleasant': 3,\n             'certainly': 62,\n             'thanks': 15,\n             'performance': 125,\n             'compositional': 1,\n             'talents': 5,\n             'obvious': 28,\n             'sincerity': 1,\n             'chooses': 5,\n             'selections': 5,\n             'neither': 40,\n             'deep': 27,\n             'nor': 47,\n             'lasting': 8,\n             'entertainment': 40,\n             'substitute': 11,\n             'Brahms': 1,\n             'Waleson': 1,\n             'free-lance': 6,\n             'writer': 26,\n             'One': 287,\n             'Ronald': 24,\n             'Reagan': 80,\n             'attributes': 7,\n             'President': 256,\n             'rarely': 19,\n             'claptrap': 1,\n             'passes': 6,\n             'consensus': 30,\n             'various': 84,\n             'international': 152,\n             'fact': 159,\n             'liberated': 2,\n             'world': 283,\n             'corrupt': 5,\n             'organizations': 29,\n             'UNESCO': 8,\n             'This': 400,\n             'U.N.': 14,\n             'managed': 50,\n             'traduce': 1,\n             'charter': 21,\n             'promoting': 18,\n             'education': 50,\n             'science': 15,\n             ...})"
     },
     "execution_count": 7,
     "metadata": {},
     "output_type": "execute_result"
    }
   ],
   "source": [
    "# Define defaultdict of type 'int'\n",
    "freq = defaultdict(int)\n",
    "\n",
    "# Count frequency of occurrence for each word in the dataset\n",
    "for word in words:\n",
    "    freq[word] += 1"
   ]
  },
  {
   "cell_type": "markdown",
   "metadata": {},
   "source": [
    "Filtering the `freq` dictionary can be done using list comprehensions again (aren't they handy?). You should filter out words that appeared only once and also words that are just a newline character:"
   ]
  },
  {
   "cell_type": "code",
   "execution_count": 9,
   "metadata": {},
   "outputs": [
    {
     "data": {
      "text/plain": "['In',\n 'an',\n 'Oct.',\n '19',\n 'review',\n 'of',\n '``',\n 'The',\n 'Misanthrope',\n \"''\",\n 'at',\n 'Chicago',\n \"'s\",\n 'Goodman',\n 'Theatre',\n '(',\n 'Take',\n 'the',\n 'Stage',\n 'in',\n 'City',\n ',',\n 'Leisure',\n '&',\n 'Arts',\n ')',\n 'role',\n 'Celimene',\n 'played',\n 'by',\n 'Kim',\n 'was',\n 'mistakenly',\n 'attributed',\n 'to',\n 'Christina',\n 'Haag',\n '.',\n 'Ms.',\n 'plays',\n 'Rolls-Royce',\n 'Motor',\n 'Cars',\n 'Inc.',\n 'said',\n 'it',\n 'expects',\n 'its',\n 'U.S.',\n 'sales',\n 'remain',\n 'steady',\n 'about',\n '1,200',\n 'cars',\n '1990',\n 'luxury',\n 'auto',\n 'maker',\n 'last',\n 'year',\n 'sold',\n 'Howard',\n 'president',\n 'and',\n 'chief',\n 'executive',\n 'officer',\n 'he',\n 'anticipates',\n 'growth',\n 'for',\n 'Britain',\n 'Europe',\n 'Far',\n 'Eastern',\n 'markets',\n 'INDUSTRIES',\n 'increased',\n 'quarterly',\n '10',\n 'cents',\n 'from',\n 'seven',\n 'a',\n 'share',\n 'new',\n 'rate',\n 'will',\n 'be',\n 'payable',\n 'Feb.',\n '15',\n 'A',\n 'record',\n 'date',\n 'has',\n \"n't\",\n 'been',\n 'set',\n 'Bell',\n 'based',\n 'Los',\n 'Angeles',\n 'makes',\n 'distributes',\n 'electronic',\n 'computer',\n 'building',\n 'products',\n 'Investors',\n 'are',\n 'appealing',\n 'Securities',\n 'Exchange',\n 'Commission',\n 'not',\n 'limit',\n 'their',\n 'access',\n 'information',\n 'stock',\n 'purchases',\n 'corporate',\n 'insiders',\n 'SEC',\n 'proposal',\n 'ease',\n 'reporting',\n 'requirements',\n 'some',\n 'company',\n 'executives',\n 'would',\n 'undermine',\n 'usefulness',\n 'on',\n 'insider',\n 'trades',\n 'as',\n 'stock-picking',\n 'tool',\n 'individual',\n 'investors',\n 'professional',\n 'money',\n 'managers',\n 'contend',\n 'They',\n 'make',\n 'argument',\n 'letters',\n 'agency',\n 'rule',\n 'changes',\n 'proposed',\n 'this',\n 'past',\n 'summer',\n 'that',\n 'among',\n 'other',\n 'things',\n 'exempt',\n 'many',\n 'own',\n 'companies',\n \"'\",\n 'shares',\n 'also',\n 'allow',\n 'report',\n 'exercises',\n 'options',\n 'later',\n 'less',\n 'often',\n 'Many',\n 'maintain',\n 'investor',\n 'confidence',\n 'so',\n 'shaken',\n '1987',\n 'market',\n 'crash',\n '--',\n 'already',\n 'stacked',\n 'against',\n 'little',\n 'guy',\n 'any',\n 'decrease',\n 'insider-trading',\n 'patterns',\n 'might',\n 'prompt',\n 'individuals',\n 'get',\n 'out',\n 'stocks',\n 'altogether',\n 'historically',\n 'paid',\n 'ideal',\n 'level',\n 'playing',\n 'field',\n 'wrote',\n 'S.',\n 'Ill.',\n 'one',\n '92',\n 'received',\n 'since',\n 'were',\n 'Aug.',\n '17',\n 'Apparently',\n 'commission',\n 'did',\n 'really',\n 'believe',\n 'Currently',\n 'rules',\n 'force',\n 'directors',\n 'within',\n 'month',\n 'after',\n 'transaction',\n 'But',\n '25',\n '%',\n 'according',\n 'figures',\n 'file',\n 'reports',\n 'late',\n 'effort',\n 'streamline',\n 'federal',\n 'bureaucracy',\n 'boost',\n 'compliance',\n 'who',\n 'calling',\n 'shots',\n 'Brian',\n 'Lane',\n 'special',\n 'counsel',\n 'office',\n 'disclosure',\n 'policy',\n 'which',\n 'officials',\n 'had',\n 'until',\n 'today',\n 'comment',\n 'proposals',\n 'issue',\n 'produced',\n 'more',\n 'mail',\n 'than',\n 'almost',\n 'memory',\n 'Mr.',\n 'probably',\n 'vote',\n 'early',\n 'next',\n 'Not',\n 'all',\n 'those',\n 'oppose',\n 'Committee',\n 'Federal',\n 'Regulation',\n 'American',\n 'Bar',\n 'Association',\n 'argues',\n 'example',\n 'lengthy',\n 'letter',\n 'substantially',\n 'improve',\n '{',\n 'law',\n '}',\n 'closely',\n 'contemporary',\n 'business',\n 'realities',\n 'What',\n 'object',\n 'most',\n 'is',\n 'effect',\n 'they',\n 'say',\n 'have',\n 'ability',\n 'spot',\n 'trading',\n 'activity',\n 'buying',\n 'or',\n 'selling',\n 'director',\n 'short',\n 'period',\n 'time',\n 'According',\n 'estimates',\n 'cut',\n 'filings',\n 'third',\n 'vehemently',\n 'disputed',\n 'eliminate',\n 'policy-making',\n 'divisions',\n 'such',\n 'marketing',\n 'finance',\n 'research',\n 'development',\n 'tougher',\n 'still',\n 'required',\n 'Companies',\n 'compelled',\n 'publish',\n 'annual',\n 'proxy',\n 'statements',\n 'names',\n 'fail',\n 'whole',\n 'under',\n 'least',\n 'effective',\n 'if',\n 'following',\n 'transactions',\n 'Robert',\n 'Gabele',\n 'Invest\\\\/Net',\n 'North',\n 'Miami',\n 'Fla.',\n 'packages',\n 'sells',\n 'data',\n 'worded',\n 'vaguely',\n 'key',\n 'may',\n 'asking',\n 'require',\n 'immediately',\n 'while',\n 'regulates',\n 'files',\n 'tells',\n 'them',\n 'when',\n 'do',\n 'want',\n 'change',\n 'timing',\n 'should',\n 'write',\n 'representatives',\n 'Congress',\n 'added',\n 'likely',\n 'legislation',\n 'timely',\n 'basis',\n 'nation',\n 'largest',\n 'pension',\n 'fund',\n 'oversees',\n '$',\n '80',\n 'billion',\n 'college',\n 'employees',\n 'plans',\n 'offer',\n 'two',\n 'investment',\n '1.2',\n 'million',\n 'participants',\n 'Insurance',\n 'Retirement',\n 'Equities',\n 'Fund',\n 'introduce',\n 'bond',\n 'invest',\n 'socially',\n 'responsible',\n 'Both',\n 'funds',\n 'expected',\n 'begin',\n 'operation',\n 'around',\n 'March',\n '1',\n 'subject',\n 'approval',\n 'For',\n 'sign',\n 'up',\n 'must',\n 'approve',\n 'plan',\n 'Some',\n 'institutions',\n 'part',\n 'carry',\n 'agreement',\n 'pressure',\n 'relax',\n 'strict',\n 'participation',\n 'provide',\n 'reached',\n 'with',\n 'December',\n 'social',\n 'choice',\n 'shun',\n 'securities',\n 'linked',\n 'South',\n 'Africa',\n 'nuclear',\n 'power',\n 'cases',\n 'Northern',\n 'Ireland',\n 'Also',\n 'excluded',\n 'investments',\n 'significant',\n 'stemming',\n 'weapons',\n 'manufacture',\n 'alcoholic',\n 'beverages',\n 'tobacco',\n 'Sixty',\n 'percent',\n 'invested',\n 'rest',\n 'going',\n 'into',\n 'bonds',\n 'short-term',\n 'high-grade',\n 'mortgages',\n 'asset-backed',\n 'including',\n 'much',\n 'foreign',\n 'buy',\n 'sell',\n 'futures',\n 'contracts',\n 'New',\n 'York',\n 'State',\n 'Department',\n 'Under',\n 'features',\n 'able',\n 'transfer',\n 'jobs',\n 'terminated',\n 'receive',\n 'cash',\n 'choices',\n 'offered',\n 'currently',\n 'limited',\n 'annuity',\n 'money-market',\n 'Brunswick',\n 'Scientific',\n 'Co.',\n 'biotechnology',\n 'instrumentation',\n 'equipment',\n 'adopted',\n 'anti-takeover',\n 'giving',\n 'shareholders',\n 'right',\n 'purchase',\n 'half',\n 'price',\n 'certain',\n 'conditions',\n 'protect',\n 'abusive',\n 'takeover',\n 'tactics',\n 'W.',\n 'Ed',\n 'Tyler',\n '37',\n 'years',\n 'old',\n 'senior',\n 'vice',\n 'printing',\n 'concern',\n 'elected',\n 'technology',\n 'group',\n 'position',\n 'Solo',\n 'players',\n 'creative',\n 'work',\n 'lot',\n 'because',\n 'repertoire',\n 'audience',\n 'appeal',\n 'Heinz',\n 'taken',\n 'hard',\n 'line',\n 'problem',\n ':',\n 'He',\n 'commissions',\n 'splendidly',\n 'scores',\n 'does',\n 'conducting',\n 'play',\n 'same',\n 'Strauss',\n 'over',\n 'again',\n 'Richard',\n 'Stoltzman',\n 'approach',\n 'Years',\n 'ago',\n 'collaborated',\n 'music',\n 'gurus',\n 'Peter',\n 'Fred',\n 'Sherry',\n 'very',\n 'chamber',\n 'Tashi',\n 'won',\n 'audiences',\n 'dreaded',\n 'like',\n 'End',\n 'Time',\n 'Today',\n 'clarinetist',\n 'mostly',\n 'dropped',\n 'though',\n 'touch',\n 'survives',\n 'now',\n 'goes',\n 'road',\n 'piano',\n 'bass',\n 'slide',\n 'show',\n 'ranges',\n 'light',\n 'classical',\n 'jazz',\n 'pop',\n 'few',\n 'notable',\n 'exceptions',\n 'Just',\n 'thing',\n 'yuppie',\n 'embraced',\n 'Age',\n 'easy',\n 'listening',\n 'you',\n 'ca',\n 'dismiss',\n 'his',\n 'motives',\n 'merely',\n 'commercial',\n 'lightweight',\n 'believes',\n 'what',\n 'His',\n 'recent',\n 'appearance',\n 'Metropolitan',\n 'Museum',\n 'dubbed',\n 'case',\n 'point',\n 'It',\n 'felt',\n 'party',\n 'highly',\n 'polished',\n 'jam',\n 'session',\n 'friends',\n 'concert',\n 'trademark',\n 'black',\n 'velvet',\n 'suit',\n 'soft-spoken',\n 'announced',\n 'album',\n 'Inner',\n 'Voices',\n 'just',\n 'released',\n 'family',\n 'front',\n 'row',\n 'mother',\n 'birthday',\n 'her',\n 'favorite',\n 'tune',\n 'launched',\n 'Saint-Saens',\n 'Carnival',\n 'Animals',\n 'piece',\n 'lovely',\n 'glossy',\n 'tone',\n 'no',\n 'bite',\n 'Then',\n 'could',\n 'fast',\n 'well',\n 'second',\n 'movement',\n 'Sonata',\n 'whimsical',\n 'puckish',\n 'reflected',\n 'flip',\n 'side',\n 'personality',\n 'And',\n 'went',\n 'through',\n 'first',\n 'chosen',\n 'pieces',\n 'none',\n 'longer',\n 'five',\n 'minutes',\n 'disturb',\n 'challenge',\n 'listener',\n 'introduced',\n 'colleagues',\n 'Bill',\n 'Douglas',\n 'buddy',\n 'Yale',\n 'Eddie',\n 'Gomez',\n 'An',\n 'section',\n 'built',\n 'beginning',\n 'Golden',\n 'lead',\n 'Sky',\n 'gave',\n 'opportunity',\n 'high',\n 'register',\n 'off',\n 'fleet',\n 'fingers',\n 'Bach',\n 'Air',\n 'followed',\n 'tied',\n 'composer',\n 'proclaiming',\n 'him',\n 'great',\n '18th',\n 'century',\n 'then',\n 'image',\n 'joining',\n 'two-part',\n 'inventions',\n 'cleverly',\n 'arranged',\n 'clarinet',\n 'Keeping',\n 'mood',\n 'chanted',\n 'way',\n 'devised',\n 'alternative',\n 'dry',\n 'techniques',\n 'soared',\n 'tight',\n 'end',\n 'however',\n 'brought',\n 'crowd',\n 'seemed',\n 'waiting',\n 'singer',\n 'Judy',\n 'Collins',\n 'appears',\n 'ever',\n 'sang',\n 'Mitchell',\n 'Free',\n 'encounter',\n 'street-corner',\n 'contributed',\n 'lush',\n 'setting',\n 'blessing',\n 'Deep',\n 'Peace',\n 'featured',\n 'but',\n 'predictable',\n 'images',\n 'clouds',\n 'beaches',\n 'etc',\n 'too',\n 'mellow',\n 'believed',\n 'gotten',\n 'away',\n 'add',\n 'signature',\n 'Amazing',\n 'Grace',\n 'ask',\n 'That',\n 'permissible',\n 'warm',\n 'feelings',\n 'Was',\n 'why',\n 'departed',\n 'before',\n 'during',\n '?',\n 'Or',\n 'gone',\n 'Either',\n 'Stolzman',\n 'substantial',\n 'evening',\n 'intermission',\n 'Steve',\n 'Reich',\n 'Counterpoint',\n 'series',\n 'works',\n 'live',\n 'performer',\n 'recorded',\n 'tracks',\n 'Different',\n 'string',\n 'uses',\n 'technique',\n 'worried',\n 'take',\n 'warned',\n 'us',\n 'advance',\n 'lasts',\n '11',\n '1\\\\/2',\n 'unfortunately',\n 'illustrated',\n 'intricate',\n 'Pearson',\n 'repeating',\n 'objects',\n 'musical',\n 'structure',\n 'thoroughly',\n 'distracting',\n 'elegant',\n 'execution',\n 'straight',\n 'sounds',\n 'written',\n 'Charlie',\n 'Parker',\n 'Coleman',\n 'pictures',\n 'enjoyable',\n 'hear',\n 'accomplished',\n 'without',\n 'having',\n 'sit',\n 'club',\n 'ultimately',\n 'Is',\n 'future',\n 'Managers',\n 'insist',\n 'concerts',\n 'can',\n 'enjoy',\n 'only',\n 'purged',\n 'threatening',\n 'elements',\n 'served',\n 'accompanied',\n 'illustrate',\n 'unpleasant',\n 'certainly',\n 'thanks',\n 'performance',\n 'talents',\n 'obvious',\n 'chooses',\n 'selections',\n 'neither',\n 'deep',\n 'nor',\n 'lasting',\n 'entertainment',\n 'substitute',\n 'free-lance',\n 'writer',\n 'One',\n 'Ronald',\n 'Reagan',\n 'attributes',\n 'President',\n 'rarely',\n 'passes',\n 'consensus',\n 'various',\n 'international',\n 'fact',\n 'liberated',\n 'world',\n 'corrupt',\n 'organizations',\n 'UNESCO',\n 'This',\n 'U.N.',\n 'managed',\n 'charter',\n 'promoting',\n 'education',\n 'science',\n 'culture',\n 'Ever',\n 'remaining',\n 'members',\n 'desperate',\n 'United',\n 'States',\n 'rejoin',\n 'Now',\n 'apologists',\n 'lobbying',\n 'Bush',\n 'decision',\n 'we',\n 'think',\n 'reasons',\n 'stay',\n 'foreseeable',\n 'beyond',\n 'along',\n 'Singapore',\n 'left',\n 'ideology',\n 'financial',\n 'corruption',\n 'top',\n 'leadership',\n 'got',\n 'hand',\n 'personal',\n 'Director',\n \"M'Bow\",\n 'drew',\n 'attention',\n 'several',\n 'aides',\n 'uncovered',\n 'KGB',\n 'plants',\n 'France',\n 'mysterious',\n 'fire',\n 'sent',\n 'accountants',\n 'extreme',\n 'even',\n 'replacement',\n 'personally',\n 'Spanish',\n 'Mayor',\n 'success',\n 'achieving',\n 'reforms',\n 'Several',\n 'ridiculous',\n 'projects',\n 'continue',\n 'International',\n 'Economic',\n 'Order',\n 'means',\n 'West',\n 'pay',\n 'everyone',\n 'else',\n 'World',\n 'Information',\n 'give',\n 'government',\n 'rights',\n 'press',\n ';',\n 'journalists',\n 'obliged',\n 'licensing',\n 'censorship',\n 'powers',\n 'indeed',\n 'duties',\n 'block',\n 'wrong',\n 'ideas',\n 'somehow',\n 'converted',\n 'founding',\n 'ideals',\n 'liberty',\n 'peoples',\n 'conferences',\n 'held',\n 'chew',\n 'subjects',\n 'ethical',\n 'responsibilities',\n 'scientists',\n 'support',\n 'impact',\n 'activities',\n 'corporations',\n 'totally',\n 'principles',\n 'Soviets',\n 'wonder',\n 'Glasnost',\n ...]"
     },
     "execution_count": 9,
     "metadata": {},
     "output_type": "execute_result"
    }
   ],
   "source": [
    "# Create the vocabulary by filtering the 'freq' dictionary\n",
    "vocab = [k for k, v in freq.items() if (v > 1 and k != '\\n')]"
   ]
  },
  {
   "cell_type": "markdown",
   "metadata": {},
   "source": [
    "Finally, the `sort` method will take care of the final step. Notice that it changes the list directly so you don't need to reassign the `vocab` variable:"
   ]
  },
  {
   "cell_type": "code",
   "execution_count": 11,
   "metadata": {},
   "outputs": [
    {
     "name": "stdout",
     "output_type": "stream",
     "text": [
      "Early\n",
      "Earnings\n",
      "Earth\n",
      "Earthquake\n",
      "East\n"
     ]
    },
    {
     "data": {
      "text/plain": "23767"
     },
     "execution_count": 11,
     "metadata": {},
     "output_type": "execute_result"
    }
   ],
   "source": [
    "# Sort the vocabulary\n",
    "vocab.sort()\n",
    "\n",
    "# Print some random values of the vocabulary\n",
    "for i in range(4000, 4005):\n",
    "    print(vocab[i])\n",
    "len(vocab)"
   ]
  },
  {
   "cell_type": "markdown",
   "metadata": {},
   "source": [
    "Now you have successfully created a vocabulary from the dataset. **Great job!** The vocabulary is quite extensive so it is not printed out but you can still do so by creating a cell and running something like `print(vocab)`. \n",
    "\n",
    "At this point you will usually write the vocabulary into a file for future use, but that is out of the scope of this notebook. If you are curious it is very similar to how you read the file at the beginning of this notebook.\n"
   ]
  },
  {
   "cell_type": "markdown",
   "metadata": {},
   "source": [
    "## Processing new text sources"
   ]
  },
  {
   "cell_type": "markdown",
   "metadata": {},
   "source": [
    "### Dealing with unknown words"
   ]
  },
  {
   "cell_type": "markdown",
   "metadata": {},
   "source": [
    "Now that you have a vocabulary, you will use it when processing new text sources. **A new text will have words that do not appear in the current vocabulary**. To tackle this, you can simply classify each new word as an unknown one, but you can do better by creating a function that tries to classify the type of each unknown word and assign it a corresponding `unknown token`. \n",
    "\n",
    "This function will do the following checks and return an appropriate token:\n",
    "\n",
    "   - Check if the unknown word contains any character that is a digit \n",
    "       - return `--unk_digit--`\n",
    "   - Check if the unknown word contains any punctuation character \n",
    "       - return `--unk_punct--`\n",
    "   - Check if the unknown word contains any upper-case character \n",
    "       - return `--unk_upper--`\n",
    "   - Check if the unknown word ends with a suffix that could indicate it is a noun, verb, adjective or adverb \n",
    "        - return `--unk_noun--`, `--unk_verb--`, `--unk_adj--`, `--unk_adv--` respectively\n",
    "\n",
    "If a word fails to fall under any condition then its token will be a plain `--unk--`. The conditions will be evaluated in the same order as listed here. So if a word contains a punctuation character but does not contain digits, it will fall under the second condition. To achieve this behaviour some if/elif statements can be used along with early returns. \n",
    "\n",
    "This function is implemented next. Notice that the `any()` function is being heavily used. It returns `True` if at least one of the cases it evaluates is `True`."
   ]
  },
  {
   "cell_type": "code",
   "execution_count": 12,
   "metadata": {},
   "outputs": [],
   "source": [
    "def assign_unk(word):\n",
    "    \"\"\"\n",
    "    Assign tokens to unknown words\n",
    "    \"\"\"\n",
    "    \n",
    "    # Punctuation characters\n",
    "    # Try printing them out in a new cell!\n",
    "    punct = set(string.punctuation)\n",
    "    \n",
    "    # Suffixes\n",
    "    noun_suffix = [\"action\", \"age\", \"ance\", \"cy\", \"dom\", \"ee\", \"ence\", \"er\", \"hood\", \"ion\", \"ism\", \"ist\", \"ity\", \"ling\", \"ment\", \"ness\", \"or\", \"ry\", \"scape\", \"ship\", \"ty\"]\n",
    "    verb_suffix = [\"ate\", \"ify\", \"ise\", \"ize\"]\n",
    "    adj_suffix = [\"able\", \"ese\", \"ful\", \"i\", \"ian\", \"ible\", \"ic\", \"ish\", \"ive\", \"less\", \"ly\", \"ous\"]\n",
    "    adv_suffix = [\"ward\", \"wards\", \"wise\"]\n",
    "\n",
    "    # Loop the characters in the word, check if any is a digit\n",
    "    if any(char.isdigit() for char in word):\n",
    "        return \"--unk_digit--\"\n",
    "\n",
    "    # Loop the characters in the word, check if any is a punctuation character\n",
    "    elif any(char in punct for char in word):\n",
    "        return \"--unk_punct--\"\n",
    "\n",
    "    # Loop the characters in the word, check if any is an upper case character\n",
    "    elif any(char.isupper() for char in word):\n",
    "        return \"--unk_upper--\"\n",
    "\n",
    "    # Check if word ends with any noun suffix\n",
    "    elif any(word.endswith(suffix) for suffix in noun_suffix):\n",
    "        return \"--unk_noun--\"\n",
    "\n",
    "    # Check if word ends with any verb suffix\n",
    "    elif any(word.endswith(suffix) for suffix in verb_suffix):\n",
    "        return \"--unk_verb--\"\n",
    "\n",
    "    # Check if word ends with any adjective suffix\n",
    "    elif any(word.endswith(suffix) for suffix in adj_suffix):\n",
    "        return \"--unk_adj--\"\n",
    "\n",
    "    # Check if word ends with any adverb suffix\n",
    "    elif any(word.endswith(suffix) for suffix in adv_suffix):\n",
    "        return \"--unk_adv--\"\n",
    "    \n",
    "    # If none of the previous criteria is met, return plain unknown\n",
    "    return \"--unk--\"\n"
   ]
  },
  {
   "cell_type": "markdown",
   "metadata": {},
   "source": [
    "A POS tagger will always encounter words that are not within the vocabulary that is being used. By augmenting the dataset to include these `unknown word tokens` you are helping the tagger to have a better idea of the appropriate tag for these words. "
   ]
  },
  {
   "cell_type": "markdown",
   "metadata": {},
   "source": [
    "### Getting the correct tag for a word"
   ]
  },
  {
   "cell_type": "markdown",
   "metadata": {},
   "source": [
    "All that is left is to implement a function that will get the correct tag for a particular word taking special considerations for unknown words. Since the dataset provides each word and tag within the same line and a word being known depends on the vocabulary used, these two elements should be arguments to this function.\n",
    "\n",
    "This function should check if a line is empty and if so, it should return a placeholder word and tag, `--n--` and `--s--` respectively. \n",
    "\n",
    "If not, it should process the line to return the correct word and tag pair, considering if a word is unknown in which scenario the function `assign_unk()` should be used.\n",
    "\n",
    "The function is implemented next. Notice that the `split()` method can be used without specifying the delimiter, in which case it will default to any whitespace."
   ]
  },
  {
   "cell_type": "code",
   "execution_count": 13,
   "metadata": {},
   "outputs": [],
   "source": [
    "def get_word_tag(line, vocab):\n",
    "    # If line is empty return placeholders for word and tag\n",
    "    if not line.split():\n",
    "        word = \"--n--\"\n",
    "        tag = \"--s--\"\n",
    "    else:\n",
    "        # Split line to separate word and tag\n",
    "        word, tag = line.split()\n",
    "        # Check if word is not in vocabulary\n",
    "        if word not in vocab: \n",
    "            # Handle unknown word\n",
    "            word = assign_unk(word)\n",
    "    return word, tag"
   ]
  },
  {
   "cell_type": "markdown",
   "metadata": {},
   "source": [
    "Now you can try this function with some examples to test that it is working as intended:"
   ]
  },
  {
   "cell_type": "code",
   "execution_count": 18,
   "metadata": {},
   "outputs": [
    {
     "data": {
      "text/plain": "('--n--', '--s--')"
     },
     "execution_count": 18,
     "metadata": {},
     "output_type": "execute_result"
    }
   ],
   "source": [
    "get_word_tag('\\n', vocab)"
   ]
  },
  {
   "cell_type": "markdown",
   "metadata": {},
   "source": [
    "Since this line only includes a newline character it returns a placeholder word and tag."
   ]
  },
  {
   "cell_type": "code",
   "execution_count": 19,
   "metadata": {},
   "outputs": [
    {
     "data": {
      "text/plain": "('In', 'IN')"
     },
     "execution_count": 19,
     "metadata": {},
     "output_type": "execute_result"
    }
   ],
   "source": [
    "get_word_tag('In\\tIN\\n', vocab)"
   ]
  },
  {
   "cell_type": "markdown",
   "metadata": {},
   "source": [
    "This one is a valid line and the function does a fair job at returning the correct (word, tag) pair."
   ]
  },
  {
   "cell_type": "code",
   "execution_count": 20,
   "metadata": {},
   "outputs": [
    {
     "data": {
      "text/plain": "('--unk--', 'NN')"
     },
     "execution_count": 20,
     "metadata": {},
     "output_type": "execute_result"
    }
   ],
   "source": [
    "get_word_tag('tardigrade\\tNN\\n', vocab)"
   ]
  },
  {
   "cell_type": "markdown",
   "metadata": {},
   "source": [
    "This line includes a noun that is not present in the vocabulary. \n",
    "\n",
    "The `assign_unk` function fails to detect that it is a noun so it returns an `unknown token`."
   ]
  },
  {
   "cell_type": "code",
   "execution_count": 21,
   "metadata": {},
   "outputs": [
    {
     "data": {
      "text/plain": "('--unk_verb--', 'VB')"
     },
     "execution_count": 21,
     "metadata": {},
     "output_type": "execute_result"
    }
   ],
   "source": [
    "get_word_tag('scrutinize\\tVB\\n', vocab)"
   ]
  },
  {
   "cell_type": "markdown",
   "metadata": {},
   "source": [
    "This line includes a verb that is not present in the vocabulary. \n",
    "\n",
    "In this case the `assign_unk` is able to detect that it is a verb so it returns an `unknown verb token`."
   ]
  },
  {
   "cell_type": "markdown",
   "metadata": {},
   "source": [
    "**Congratulations on finishing this lecture notebook!** Now you should be more familiar with working with text data and have a better understanding of how a basic POS tagger works.\n",
    "\n",
    "**Keep it up!**"
   ]
  }
 ],
 "metadata": {
  "kernelspec": {
   "display_name": "Python 3",
   "language": "python",
   "name": "python3"
  },
  "language_info": {
   "codemirror_mode": {
    "name": "ipython",
    "version": 3
   },
   "file_extension": ".py",
   "mimetype": "text/x-python",
   "name": "python",
   "nbconvert_exporter": "python",
   "pygments_lexer": "ipython3",
   "version": "3.7.6"
  }
 },
 "nbformat": 4,
 "nbformat_minor": 4
}